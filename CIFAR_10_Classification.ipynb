{
  "cells": [
    {
      "cell_type": "markdown",
      "metadata": {
        "id": "view-in-github",
        "colab_type": "text"
      },
      "source": [
        "<a href=\"https://colab.research.google.com/github/uujeongLee/CIFAR-10-Classification/blob/main/CIFAR_10_Classification.ipynb\" target=\"_parent\"><img src=\"https://colab.research.google.com/assets/colab-badge.svg\" alt=\"Open In Colab\"/></a>"
      ]
    },
    {
      "cell_type": "markdown",
      "metadata": {
        "id": "8H2mplXJU1d6"
      },
      "source": [
        "# ***Final Project***\n",
        "---\n",
        "\n",
        "In this project, you will develop a convolutional neural network (CNN) to perform classification, and test it out on the CIFAR-10 dataset.\n",
        "\n",
        "\n",
        "The given code is a simple implement for the CIFAR-10 classification.\n",
        "\n",
        "The goal of the final project is to check whether you understand important concepts for training CNN such as:\n",
        "\n",
        "*   Network architecture\n",
        "*   Optimization\n",
        "*   Loss function\n",
        "*   Data preprocessing\n",
        "*   Regularization\n",
        "*   ...\n",
        "\n",
        "Therefore, you can **modify the given code to improve the performance** of the network **except for the dataset (i.e. trainset and testset)**.\n",
        "\n",
        "You should **upload your code and your report** including an explaination of your code and what you have changed or added."
      ]
    },
    {
      "cell_type": "code",
      "execution_count": null,
      "metadata": {
        "id": "Fr9zgCgCmdNq"
      },
      "outputs": [],
      "source": [
        "# AS usual, a bit of setup\n",
        "# If you need other libraries, you should import the libraries.\n",
        "\n",
        "import os, sys\n",
        "import torch\n",
        "from torch import nn\n",
        "import torch.optim as optim\n",
        "from torch.nn import functional as F\n",
        "\n",
        "import torchvision\n",
        "import torchvision.transforms as transforms\n",
        "import torchvision.datasets as datasets\n",
        "\n",
        "import matplotlib.pyplot as plt\n",
        "import numpy as np"
      ]
    },
    {
      "cell_type": "code",
      "execution_count": null,
      "metadata": {
        "colab": {
          "base_uri": "https://localhost:8080/"
        },
        "id": "V9pg5nB1pXEO",
        "outputId": "7c2c1f5c-522f-4094-a3a7-bd4ab73f22fc"
      },
      "outputs": [
        {
          "output_type": "stream",
          "name": "stdout",
          "text": [
            "cuda\n"
          ]
        }
      ],
      "source": [
        "# Set the device\n",
        "device = 'cuda' if torch.cuda.is_available() else 'cpu'\n",
        "print(device)"
      ]
    },
    {
      "cell_type": "markdown",
      "metadata": {
        "id": "q-G1AJVsbqwc"
      },
      "source": [
        "# **Data Loader**\n",
        "\n",
        "You can load the CIFAR-10 dataset using the library `torchvision.datasets`\n",
        "\n",
        "The details of CIFAR-10 dataset can be found in https://www.cs.toronto.edu/~kriz/cifar.html\n",
        "\n",
        "`transforms_cifar10` is used to assemble several transforms for data preprossing."
      ]
    },
    {
      "cell_type": "code",
      "execution_count": null,
      "metadata": {
        "colab": {
          "base_uri": "https://localhost:8080/"
        },
        "id": "HOEFPBpcmmHU",
        "outputId": "e272e33b-6c80-4173-cdc4-caa0da0ce7ce"
      },
      "outputs": [
        {
          "output_type": "stream",
          "name": "stdout",
          "text": [
            "Files already downloaded and verified\n",
            "Files already downloaded and verified\n"
          ]
        }
      ],
      "source": [
        "transforms_cifar10 = transforms.Compose(\n",
        "                                  [transforms.Resize((32, 32)),\n",
        "                                  transforms.ColorJitter(brightness=0.2, contrast=0.2, saturation=0.2, hue=0.2), #이미지 지터링(밝기, 대조, 채비, 색조)\n",
        "                                  transforms.RandomHorizontalFlip(p=0.5), #p확률로 이미지 좌우반전\n",
        "                                  transforms.RandomCrop(32, padding=4),\n",
        "                                  transforms.ToTensor(), #모든 이미지를 tesor 형태로 바꾼다: numpy형태->torch의 tensor 형태\n",
        "                                  transforms.Normalize((0.5, 0.5, 0.5), (0.5, 0.5, 0.5))\n",
        "                                  ])\n",
        "\n",
        "transforms_cifar10_test = transforms.Compose([transforms.Resize((32, 32)),\n",
        "                                  transforms.ToTensor(),\n",
        "                                  transforms.Normalize((0.5, 0.5, 0.5), (0.5, 0.5, 0.5))\n",
        "                                 ])\n",
        "\n",
        "# Train dataset\n",
        "trainset = datasets.CIFAR10(root='./data', train=True, download=True, transform=transforms_cifar10)\n",
        "trainloader = torch.utils.data.DataLoader(trainset, batch_size=256, shuffle=True, num_workers=2)\n",
        "\n",
        "# Test dataset\n",
        "testset = datasets.CIFAR10(root='./data', train=False, download=True, transform=transforms_cifar10_test)\n",
        "testloader = torch.utils.data.DataLoader(testset, batch_size=256, shuffle=False, num_workers=2)\n",
        "\n",
        "# Classes of CIFAR-10 dataset\n",
        "classes = (\"plane\", \"car\", \"bird\", \"cat\", \"deer\", \"dog\", \"frog\", \"horse\", \"ship\", \"truck\")"
      ]
    },
    {
      "cell_type": "code",
      "execution_count": null,
      "metadata": {
        "colab": {
          "base_uri": "https://localhost:8080/",
          "height": 211
        },
        "id": "d7JdtMAzoCac",
        "outputId": "7318a025-e8df-49cd-9715-01462581e6bc"
      },
      "outputs": [
        {
          "output_type": "stream",
          "name": "stdout",
          "text": [
            "  car   car   car plane\n"
          ]
        },
        {
          "output_type": "display_data",
          "data": {
            "text/plain": [
              "<Figure size 640x480 with 1 Axes>"
            ],
            "image/png": "[encoded data removed]"
          },
          "metadata": {}
        }
      ],
      "source": [
        "# Examples of dataset\n",
        "\n",
        "def imshow(img):\n",
        "  img = img /2 + 0.5\n",
        "  npimg = img.numpy()\n",
        "  plt.imshow(np.transpose(npimg, (1, 2, 0)))\n",
        "\n",
        "dataiter = iter(trainloader)\n",
        "imgs, labels = next(dataiter)\n",
        "\n",
        "imshow(torchvision.utils.make_grid(imgs[0:4,:,:,:]))\n",
        "print(' '.join('%5s' % classes[labels[j]] for j in range(4)))"
      ]
    },
    {
      "cell_type": "markdown",
      "metadata": {
        "id": "Y77itjthc5Xh"
      },
      "source": [
        "# **Your own CNN**\n",
        "\n",
        "You can implement your own network using libraries such as `torch.nn`and `torch.nn.functional`.\n",
        "\n",
        "`SimpleNet` and `VGG11` are examples to help your understand the implementation of the network.\n",
        "\n",
        "So, you can modify the given codes or create another awesome neural network for CIFAR-10 classification."
      ]
    },
    {
      "cell_type": "code",
      "execution_count": null,
      "metadata": {
        "id": "068wqyqdo_fc"
      },
      "outputs": [],
      "source": [
        "#SimpleNet 수정\n",
        "class SimpleNet(nn.Module):\n",
        "    def __init__(self):\n",
        "        super(SimpleNet, self).__init__()\n",
        "\n",
        "        self.conv1 = nn.Conv2d(3, 16, 3, padding=1)\n",
        "        self.bn1 = nn.BatchNorm2d(16)\n",
        "        self.conv2 = nn.Conv2d(16, 32, 3, padding=1)\n",
        "        self.bn2 = nn.BatchNorm2d(32)\n",
        "        self.pool1 = nn.MaxPool2d(kernel_size=2, stride=2)\n",
        "        self.conv3 = nn.Conv2d(32, 64, 3, padding=1)\n",
        "        self.bn3 = nn.BatchNorm2d(64)\n",
        "        self.conv4 = nn.Conv2d(64, 128, 3, padding=1)\n",
        "        self.bn4 = nn.BatchNorm2d(128)\n",
        "        self.pool2 = nn.MaxPool2d(kernel_size=2, stride=2)\n",
        "\n",
        "        self.fc1 = nn.Linear(128 * 8 * 8, 512)\n",
        "        self.fc2 = nn.Linear(512, 256)\n",
        "        self.fc3 = nn.Linear(256, 128)\n",
        "        self.fc4 = nn.Linear(128, 10)\n",
        "\n",
        "        self.leaky_relu = nn.LeakyReLU(negative_slope=0.1)\n",
        "\n",
        "    def forward(self, x):\n",
        "        x = self.leaky_relu(self.bn1(self.conv1(x)))\n",
        "        x = self.leaky_relu(self.bn2(self.conv2(x)))\n",
        "        x = self.pool1(x)\n",
        "        x = self.leaky_relu(self.bn3(self.conv3(x)))\n",
        "        x = self.leaky_relu(self.bn4(self.conv4(x)))\n",
        "        x = self.pool2(x)\n",
        "        x = x.view(-1, 128 * 8 * 8)\n",
        "        x = self.leaky_relu(self.fc1(x))\n",
        "        x = self.leaky_relu(self.fc2(x))\n",
        "        x = self.leaky_relu(self.fc3(x))\n",
        "        x = self.fc4(x)\n",
        "        return x\n",
        "\n",
        "net = SimpleNet().to(device)"
      ]
    },
    {
      "cell_type": "code",
      "execution_count": null,
      "metadata": {
        "id": "11oMT_o1mnL2"
      },
      "outputs": [],
      "source": [
        "# VGG Model 변형\n",
        "\n",
        "cfg = [64, 64, 'M', 128, 128, 'M', 256, 256, 'M', 512, 512, 'M', 512, 512, 'M']\n",
        "\n",
        "class own(nn.Module): #VGG 레이어수\n",
        "    def __init__(self):\n",
        "        super(own, self).__init__() #\n",
        "        self.features = self.make_layers(cfg)\n",
        "        self.classifier = nn.Linear(512, 10)\n",
        "\n",
        "    def make_layers(self, cfg):\n",
        "        layers = []\n",
        "        in_channels = 3\n",
        "        for x in cfg:\n",
        "            if x == 'M':\n",
        "                nn.Dropout(0.4)\n",
        "                layers += [nn.MaxPool2d(kernel_size=2, stride=2)]\n",
        "            else:\n",
        "                layers += [nn.Conv2d(in_channels, x, kernel_size=3, padding=1),\n",
        "                           nn.ReLU(),\n",
        "                           nn.BatchNorm2d(x)\n",
        "                           ]\n",
        "                in_channels = x\n",
        "        return nn.Sequential(*layers)\n",
        "\n",
        "\n",
        "    def forward(self, x):\n",
        "        out = self.features(x)\n",
        "        out = out.view(out.size(0), -1)\n",
        "        out = self.classifier(out)\n",
        "        return out\n",
        "\n",
        "\n",
        "net = own().to(device)"
      ]
    },
    {
      "cell_type": "markdown",
      "metadata": {
        "id": "SXLnGlLgdyZ2"
      },
      "source": [
        "# **Loss function and optimizer**\n",
        "\n",
        "Set the **loss function and optimizer** for training CNN.\n",
        "You can modify the loss function or optimizer for better performance."
      ]
    },
    {
      "cell_type": "code",
      "execution_count": null,
      "metadata": {
        "id": "oB0f6C2npeoj"
      },
      "outputs": [],
      "source": [
        "# Loss function and optimizer\n",
        "loss_fun = nn.CrossEntropyLoss()\n",
        "optimizer = torch.optim.Adam(net.parameters(), lr=0.001)\n",
        "lambda1 = lambda epoch: 0.98 ** epoch      # LambdaLR로 수정한 부분\n",
        "scheduler = torch.optim.lr_scheduler.LambdaLR(optimizer, lr_lambda=lambda1) #lambdaLR scheduler"
      ]
    },
    {
      "cell_type": "markdown",
      "metadata": {
        "id": "DInMRCnReWno"
      },
      "source": [
        "# **Train the network**\n",
        "\n",
        "Train your own network using the above loss function and optimizer."
      ]
    },
    {
      "cell_type": "code",
      "execution_count": null,
      "metadata": {
        "colab": {
          "base_uri": "https://localhost:8080/"
        },
        "id": "2vvD0eNCpqxj",
        "outputId": "c54d3a6e-481b-4fa7-ba08-a355e69e4c40"
      },
      "outputs": [
        {
          "output_type": "stream",
          "name": "stdout",
          "text": [
            "[Epoch - 1, Iteration -    40] Loss: 2.01052\n",
            "[Epoch - 1, Iteration -    80] Loss: 0.82794\n",
            "[Epoch - 1, Iteration -   120] Loss: 0.48408\n",
            "[Epoch - 1, Iteration -   160] Loss: 0.33406\n",
            "[Epoch - 1] Loss: 1.53438\n",
            "[Epoch - 2, Iteration -    40] Loss: 1.07772\n",
            "[Epoch - 2, Iteration -    80] Loss: 0.50846\n",
            "[Epoch - 2, Iteration -   120] Loss: 0.31602\n",
            "[Epoch - 2, Iteration -   160] Loss: 0.21492\n",
            "[Epoch - 2] Loss: 0.95120\n",
            "[Epoch - 3, Iteration -    40] Loss: 0.77048\n",
            "[Epoch - 3, Iteration -    80] Loss: 0.36629\n",
            "[Epoch - 3, Iteration -   120] Loss: 0.24323\n",
            "[Epoch - 3, Iteration -   160] Loss: 0.17788\n",
            "[Epoch - 3] Loss: 0.72540\n",
            "[Epoch - 4, Iteration -    40] Loss: 0.62396\n",
            "[Epoch - 4, Iteration -    80] Loss: 0.29955\n",
            "[Epoch - 4, Iteration -   120] Loss: 0.20692\n",
            "[Epoch - 4, Iteration -   160] Loss: 0.15145\n",
            "[Epoch - 4] Loss: 0.60571\n",
            "[Epoch - 5, Iteration -    40] Loss: 0.55394\n",
            "[Epoch - 5, Iteration -    80] Loss: 0.26973\n",
            "[Epoch - 5, Iteration -   120] Loss: 0.17451\n",
            "[Epoch - 5, Iteration -   160] Loss: 0.13055\n",
            "[Epoch - 5] Loss: 0.53002\n",
            "[Epoch - 6, Iteration -    40] Loss: 0.47913\n",
            "[Epoch - 6, Iteration -    80] Loss: 0.23458\n",
            "[Epoch - 6, Iteration -   120] Loss: 0.16254\n",
            "[Epoch - 6, Iteration -   160] Loss: 0.11226\n",
            "[Epoch - 6] Loss: 0.46793\n",
            "[Epoch - 7, Iteration -    40] Loss: 0.40694\n",
            "[Epoch - 7, Iteration -    80] Loss: 0.20648\n",
            "[Epoch - 7, Iteration -   120] Loss: 0.13442\n",
            "[Epoch - 7, Iteration -   160] Loss: 0.10986\n",
            "[Epoch - 7] Loss: 0.41522\n",
            "[Epoch - 8, Iteration -    40] Loss: 0.37641\n",
            "[Epoch - 8, Iteration -    80] Loss: 0.19080\n",
            "[Epoch - 8, Iteration -   120] Loss: 0.12696\n",
            "[Epoch - 8, Iteration -   160] Loss: 0.09486\n",
            "[Epoch - 8] Loss: 0.37926\n",
            "[Epoch - 9, Iteration -    40] Loss: 0.35544\n",
            "[Epoch - 9, Iteration -    80] Loss: 0.16654\n",
            "[Epoch - 9, Iteration -   120] Loss: 0.11835\n",
            "[Epoch - 9, Iteration -   160] Loss: 0.08378\n",
            "[Epoch - 9] Loss: 0.34426\n",
            "[Epoch - 10, Iteration -    40] Loss: 0.30531\n",
            "[Epoch - 10, Iteration -    80] Loss: 0.15497\n",
            "[Epoch - 10, Iteration -   120] Loss: 0.10952\n",
            "[Epoch - 10, Iteration -   160] Loss: 0.08060\n",
            "[Epoch - 10] Loss: 0.32016\n",
            "[Epoch - 11, Iteration -    40] Loss: 0.26769\n",
            "[Epoch - 11, Iteration -    80] Loss: 0.14739\n",
            "[Epoch - 11, Iteration -   120] Loss: 0.09934\n",
            "[Epoch - 11, Iteration -   160] Loss: 0.07396\n",
            "[Epoch - 11] Loss: 0.29075\n",
            "[Epoch - 12, Iteration -    40] Loss: 0.25456\n",
            "[Epoch - 12, Iteration -    80] Loss: 0.13543\n",
            "[Epoch - 12, Iteration -   120] Loss: 0.08903\n",
            "[Epoch - 12, Iteration -   160] Loss: 0.06944\n",
            "[Epoch - 12] Loss: 0.26839\n",
            "[Epoch - 13, Iteration -    40] Loss: 0.22684\n",
            "[Epoch - 13, Iteration -    80] Loss: 0.11781\n",
            "[Epoch - 13, Iteration -   120] Loss: 0.08429\n",
            "[Epoch - 13, Iteration -   160] Loss: 0.06437\n",
            "[Epoch - 13] Loss: 0.24802\n",
            "[Epoch - 14, Iteration -    40] Loss: 0.22914\n",
            "[Epoch - 14, Iteration -    80] Loss: 0.11854\n",
            "[Epoch - 14, Iteration -   120] Loss: 0.07582\n",
            "[Epoch - 14, Iteration -   160] Loss: 0.05842\n",
            "[Epoch - 14] Loss: 0.23266\n",
            "[Epoch - 15, Iteration -    40] Loss: 0.19045\n",
            "[Epoch - 15, Iteration -    80] Loss: 0.09858\n",
            "[Epoch - 15, Iteration -   120] Loss: 0.07197\n",
            "[Epoch - 15, Iteration -   160] Loss: 0.05666\n",
            "[Epoch - 15] Loss: 0.20812\n",
            "[Epoch - 16, Iteration -    40] Loss: 0.19071\n",
            "[Epoch - 16, Iteration -    80] Loss: 0.09980\n",
            "[Epoch - 16, Iteration -   120] Loss: 0.06353\n",
            "[Epoch - 16, Iteration -   160] Loss: 0.04929\n",
            "[Epoch - 16] Loss: 0.19498\n",
            "[Epoch - 17, Iteration -    40] Loss: 0.17190\n",
            "[Epoch - 17, Iteration -    80] Loss: 0.08758\n",
            "[Epoch - 17, Iteration -   120] Loss: 0.06432\n",
            "[Epoch - 17, Iteration -   160] Loss: 0.04997\n",
            "[Epoch - 17] Loss: 0.18408\n",
            "[Epoch - 18, Iteration -    40] Loss: 0.16132\n",
            "[Epoch - 18, Iteration -    80] Loss: 0.07782\n",
            "[Epoch - 18, Iteration -   120] Loss: 0.05871\n",
            "[Epoch - 18, Iteration -   160] Loss: 0.04303\n",
            "[Epoch - 18] Loss: 0.16837\n",
            "[Epoch - 19, Iteration -    40] Loss: 0.15858\n",
            "[Epoch - 19, Iteration -    80] Loss: 0.07872\n",
            "[Epoch - 19, Iteration -   120] Loss: 0.05391\n",
            "[Epoch - 19, Iteration -   160] Loss: 0.04337\n",
            "[Epoch - 19] Loss: 0.16300\n",
            "[Epoch - 20, Iteration -    40] Loss: 0.14088\n",
            "[Epoch - 20, Iteration -    80] Loss: 0.06896\n",
            "[Epoch - 20, Iteration -   120] Loss: 0.05062\n",
            "[Epoch - 20, Iteration -   160] Loss: 0.03718\n",
            "[Epoch - 20] Loss: 0.14753\n",
            "[Epoch - 21, Iteration -    40] Loss: 0.14548\n",
            "[Epoch - 21, Iteration -    80] Loss: 0.06339\n",
            "[Epoch - 21, Iteration -   120] Loss: 0.04992\n",
            "[Epoch - 21, Iteration -   160] Loss: 0.03513\n",
            "[Epoch - 21] Loss: 0.13979\n",
            "[Epoch - 22, Iteration -    40] Loss: 0.12130\n",
            "[Epoch - 22, Iteration -    80] Loss: 0.06193\n",
            "[Epoch - 22, Iteration -   120] Loss: 0.04281\n",
            "[Epoch - 22, Iteration -   160] Loss: 0.02978\n",
            "[Epoch - 22] Loss: 0.12483\n",
            "[Epoch - 23, Iteration -    40] Loss: 0.12284\n",
            "[Epoch - 23, Iteration -    80] Loss: 0.05816\n",
            "[Epoch - 23, Iteration -   120] Loss: 0.04290\n",
            "[Epoch - 23, Iteration -   160] Loss: 0.03019\n",
            "[Epoch - 23] Loss: 0.12536\n",
            "[Epoch - 24, Iteration -    40] Loss: 0.10471\n",
            "[Epoch - 24, Iteration -    80] Loss: 0.05350\n",
            "[Epoch - 24, Iteration -   120] Loss: 0.03785\n",
            "[Epoch - 24, Iteration -   160] Loss: 0.02934\n",
            "[Epoch - 24] Loss: 0.11392\n",
            "[Epoch - 25, Iteration -    40] Loss: 0.10395\n",
            "[Epoch - 25, Iteration -    80] Loss: 0.05135\n",
            "[Epoch - 25, Iteration -   120] Loss: 0.03527\n",
            "[Epoch - 25, Iteration -   160] Loss: 0.02808\n",
            "[Epoch - 25] Loss: 0.10727\n",
            "[Epoch - 26, Iteration -    40] Loss: 0.09852\n",
            "[Epoch - 26, Iteration -    80] Loss: 0.04697\n",
            "[Epoch - 26, Iteration -   120] Loss: 0.03460\n",
            "[Epoch - 26, Iteration -   160] Loss: 0.02512\n",
            "[Epoch - 26] Loss: 0.10038\n",
            "[Epoch - 27, Iteration -    40] Loss: 0.09106\n",
            "[Epoch - 27, Iteration -    80] Loss: 0.04621\n",
            "[Epoch - 27, Iteration -   120] Loss: 0.02943\n",
            "[Epoch - 27, Iteration -   160] Loss: 0.02326\n",
            "[Epoch - 27] Loss: 0.09523\n",
            "[Epoch - 28, Iteration -    40] Loss: 0.09898\n",
            "[Epoch - 28, Iteration -    80] Loss: 0.04336\n",
            "[Epoch - 28, Iteration -   120] Loss: 0.02896\n",
            "[Epoch - 28, Iteration -   160] Loss: 0.02112\n",
            "[Epoch - 28] Loss: 0.09003\n",
            "[Epoch - 29, Iteration -    40] Loss: 0.08318\n",
            "[Epoch - 29, Iteration -    80] Loss: 0.03926\n",
            "[Epoch - 29, Iteration -   120] Loss: 0.02621\n",
            "[Epoch - 29, Iteration -   160] Loss: 0.02139\n",
            "[Epoch - 29] Loss: 0.08288\n",
            "[Epoch - 30, Iteration -    40] Loss: 0.07008\n",
            "[Epoch - 30, Iteration -    80] Loss: 0.04115\n",
            "[Epoch - 30, Iteration -   120] Loss: 0.02879\n",
            "[Epoch - 30, Iteration -   160] Loss: 0.02073\n",
            "[Epoch - 30] Loss: 0.08039\n",
            "[Epoch - 31, Iteration -    40] Loss: 0.07218\n",
            "[Epoch - 31, Iteration -    80] Loss: 0.03718\n",
            "[Epoch - 31, Iteration -   120] Loss: 0.02357\n",
            "[Epoch - 31, Iteration -   160] Loss: 0.01779\n",
            "[Epoch - 31] Loss: 0.07382\n",
            "[Epoch - 32, Iteration -    40] Loss: 0.06451\n",
            "[Epoch - 32, Iteration -    80] Loss: 0.02914\n",
            "[Epoch - 32, Iteration -   120] Loss: 0.02338\n",
            "[Epoch - 32, Iteration -   160] Loss: 0.01954\n",
            "[Epoch - 32] Loss: 0.06899\n",
            "[Epoch - 33, Iteration -    40] Loss: 0.07169\n",
            "[Epoch - 33, Iteration -    80] Loss: 0.03194\n",
            "[Epoch - 33, Iteration -   120] Loss: 0.02193\n",
            "[Epoch - 33, Iteration -   160] Loss: 0.01647\n",
            "[Epoch - 33] Loss: 0.06771\n",
            "[Epoch - 34, Iteration -    40] Loss: 0.06280\n",
            "[Epoch - 34, Iteration -    80] Loss: 0.03122\n",
            "[Epoch - 34, Iteration -   120] Loss: 0.02105\n",
            "[Epoch - 34, Iteration -   160] Loss: 0.01849\n",
            "[Epoch - 34] Loss: 0.06544\n",
            "[Epoch - 35, Iteration -    40] Loss: 0.05878\n",
            "[Epoch - 35, Iteration -    80] Loss: 0.03167\n",
            "[Epoch - 35, Iteration -   120] Loss: 0.01962\n",
            "[Epoch - 35, Iteration -   160] Loss: 0.01652\n",
            "[Epoch - 35] Loss: 0.06383\n",
            "[Epoch - 36, Iteration -    40] Loss: 0.06690\n",
            "[Epoch - 36, Iteration -    80] Loss: 0.03111\n",
            "[Epoch - 36, Iteration -   120] Loss: 0.02149\n",
            "[Epoch - 36, Iteration -   160] Loss: 0.01477\n",
            "[Epoch - 36] Loss: 0.06216\n",
            "[Epoch - 37, Iteration -    40] Loss: 0.04625\n",
            "[Epoch - 37, Iteration -    80] Loss: 0.02666\n",
            "[Epoch - 37, Iteration -   120] Loss: 0.01677\n",
            "[Epoch - 37, Iteration -   160] Loss: 0.01650\n",
            "[Epoch - 37] Loss: 0.05382\n",
            "[Epoch - 38, Iteration -    40] Loss: 0.04496\n",
            "[Epoch - 38, Iteration -    80] Loss: 0.02549\n",
            "[Epoch - 38, Iteration -   120] Loss: 0.01682\n",
            "[Epoch - 38, Iteration -   160] Loss: 0.01213\n",
            "[Epoch - 38] Loss: 0.04998\n",
            "[Epoch - 39, Iteration -    40] Loss: 0.04932\n",
            "[Epoch - 39, Iteration -    80] Loss: 0.02463\n",
            "[Epoch - 39, Iteration -   120] Loss: 0.01574\n",
            "[Epoch - 39, Iteration -   160] Loss: 0.01186\n",
            "[Epoch - 39] Loss: 0.04958\n",
            "[Epoch - 40, Iteration -    40] Loss: 0.04793\n",
            "[Epoch - 40, Iteration -    80] Loss: 0.02216\n",
            "[Epoch - 40, Iteration -   120] Loss: 0.01437\n",
            "[Epoch - 40, Iteration -   160] Loss: 0.01206\n",
            "[Epoch - 40] Loss: 0.04686\n",
            "[Epoch - 41, Iteration -    40] Loss: 0.04227\n",
            "[Epoch - 41, Iteration -    80] Loss: 0.02654\n",
            "[Epoch - 41, Iteration -   120] Loss: 0.01610\n",
            "[Epoch - 41, Iteration -   160] Loss: 0.01198\n",
            "[Epoch - 41] Loss: 0.04783\n",
            "[Epoch - 42, Iteration -    40] Loss: 0.04128\n",
            "[Epoch - 42, Iteration -    80] Loss: 0.02402\n",
            "[Epoch - 42, Iteration -   120] Loss: 0.01719\n",
            "[Epoch - 42, Iteration -   160] Loss: 0.01118\n",
            "[Epoch - 42] Loss: 0.04751\n",
            "[Epoch - 43, Iteration -    40] Loss: 0.03991\n",
            "[Epoch - 43, Iteration -    80] Loss: 0.01923\n",
            "[Epoch - 43, Iteration -   120] Loss: 0.01347\n",
            "[Epoch - 43, Iteration -   160] Loss: 0.01030\n",
            "[Epoch - 43] Loss: 0.04008\n",
            "[Epoch - 44, Iteration -    40] Loss: 0.04245\n",
            "[Epoch - 44, Iteration -    80] Loss: 0.02270\n",
            "[Epoch - 44, Iteration -   120] Loss: 0.01214\n",
            "[Epoch - 44, Iteration -   160] Loss: 0.00952\n",
            "[Epoch - 44] Loss: 0.04009\n",
            "[Epoch - 45, Iteration -    40] Loss: 0.03813\n",
            "[Epoch - 45, Iteration -    80] Loss: 0.01840\n",
            "[Epoch - 45, Iteration -   120] Loss: 0.01330\n",
            "[Epoch - 45, Iteration -   160] Loss: 0.01043\n",
            "[Epoch - 45] Loss: 0.03966\n",
            "[Epoch - 46, Iteration -    40] Loss: 0.03175\n",
            "[Epoch - 46, Iteration -    80] Loss: 0.02062\n",
            "[Epoch - 46, Iteration -   120] Loss: 0.01146\n",
            "[Epoch - 46, Iteration -   160] Loss: 0.01070\n",
            "[Epoch - 46] Loss: 0.03722\n",
            "[Epoch - 47, Iteration -    40] Loss: 0.03298\n",
            "[Epoch - 47, Iteration -    80] Loss: 0.01765\n",
            "[Epoch - 47, Iteration -   120] Loss: 0.01062\n",
            "[Epoch - 47, Iteration -   160] Loss: 0.01074\n",
            "[Epoch - 47] Loss: 0.03615\n",
            "[Epoch - 48, Iteration -    40] Loss: 0.03518\n",
            "[Epoch - 48, Iteration -    80] Loss: 0.01686\n",
            "[Epoch - 48, Iteration -   120] Loss: 0.01132\n",
            "[Epoch - 48, Iteration -   160] Loss: 0.01020\n",
            "[Epoch - 48] Loss: 0.03521\n",
            "[Epoch - 49, Iteration -    40] Loss: 0.03488\n",
            "[Epoch - 49, Iteration -    80] Loss: 0.01587\n",
            "[Epoch - 49, Iteration -   120] Loss: 0.01002\n",
            "[Epoch - 49, Iteration -   160] Loss: 0.00950\n",
            "[Epoch - 49] Loss: 0.03357\n",
            "[Epoch - 50, Iteration -    40] Loss: 0.03532\n",
            "[Epoch - 50, Iteration -    80] Loss: 0.01749\n",
            "[Epoch - 50, Iteration -   120] Loss: 0.01037\n",
            "[Epoch - 50, Iteration -   160] Loss: 0.00797\n",
            "[Epoch - 50] Loss: 0.03341\n",
            "Finished Training\n"
          ]
        }
      ],
      "source": [
        "# Train the model\n",
        "epochs = 50  # number of epochs\n",
        "\n",
        "net.train() ##for Dropout\n",
        "\n",
        "for epoch in range(epochs):\n",
        "\n",
        "    loss_tmp = 0.0\n",
        "    epoch_loss = 0.0\n",
        "\n",
        "    for i, data in enumerate(trainloader, start=0):\n",
        "        # Load the data\n",
        "        inputs, labels = data\n",
        "        inputs = inputs.to(device)\n",
        "        labels = labels.to(device)\n",
        "\n",
        "        # Estimate the output using the network\n",
        "        outputs = net(inputs)\n",
        "\n",
        "        # Calculate the loss between the output of the network and label\n",
        "        loss = loss_fun(outputs, labels)\n",
        "\n",
        "        # Optimize the network\n",
        "        optimizer.zero_grad()\n",
        "        loss.backward()\n",
        "        optimizer.step()\n",
        "\n",
        "        loss_tmp += loss.data\n",
        "        epoch_loss += loss.data\n",
        "\n",
        "        if i % 40 == 39:    # Print loss every 40 mini-batches\n",
        "            print('[Epoch - %d, Iteration - %5d] Loss: %.5f' % (epoch + 1, i + 1, loss_tmp / (i+1)))\n",
        "            loss_tmp = 0.0\n",
        "\n",
        "    # Update the learning rate according to the learnig rate scheduler\n",
        "    scheduler.step()\n",
        "\n",
        "    # Print the epoch loss\n",
        "    print('[Epoch - %d] Loss: %.5f' %(epoch + 1, epoch_loss / (i+1)))\n",
        "\n",
        "print('Finished Training')"
      ]
    },
    {
      "cell_type": "markdown",
      "metadata": {
        "id": "CgDA6_LlfNhE"
      },
      "source": [
        "# **Test the network**\n",
        "\n",
        "Test the trained network using the testset.\n",
        "\n",
        "Accuracy of the network on the 10,000 test images is the final accuracy of your network.\n",
        "\n",
        "The closer the accuray is to 100%, the better the network classifies the input image."
      ]
    },
    {
      "cell_type": "code",
      "execution_count": null,
      "metadata": {
        "colab": {
          "base_uri": "https://localhost:8080/",
          "height": 229
        },
        "id": "fNfptwqLqpdA",
        "outputId": "3911b90d-8ce9-471e-aeef-7f6d18836338"
      },
      "outputs": [
        {
          "output_type": "stream",
          "name": "stdout",
          "text": [
            "GroundTruth:    cat  ship  ship plane\n",
            "Predicted:      cat  ship  ship plane\n"
          ]
        },
        {
          "output_type": "display_data",
          "data": {
            "text/plain": [
              "<Figure size 640x480 with 1 Axes>"
            ],
            "image/png": "[encoded data removed]"
          },
          "metadata": {}
        }
      ],
      "source": [
        "# Test the trained model with sample\n",
        "dataiter_test = iter(testloader)\n",
        "img_test, labels_test = next(dataiter_test)\n",
        "\n",
        "imshow(torchvision.utils.make_grid(img_test[0:4,:,:,:]))\n",
        "print('GroundTruth: ', ' '.join('%5s' % classes[labels_test[j]] for j in range(4)))\n",
        "\n",
        "img_test = img_test.to(device)\n",
        "labels_test = labels_test.to(device)\n",
        "\n",
        "# Prediction\n",
        "outputs_test = net(img_test)\n",
        "_, predicted = torch.max(outputs_test.data, 1)\n",
        "print('Predicted:   ', ' '.join('%5s' % classes[predicted[j]] for j in range(4)))"
      ]
    },
    {
      "cell_type": "code",
      "execution_count": null,
      "metadata": {
        "colab": {
          "base_uri": "https://localhost:8080/"
        },
        "id": "DNrXRT1NrJft",
        "outputId": "167f2d9d-12b3-4d2e-a6a6-a10570981d3c"
      },
      "outputs": [
        {
          "output_type": "stream",
          "name": "stdout",
          "text": [
            "Accuracy of the network on the 10,000 test images: 90 %\n"
          ]
        }
      ],
      "source": [
        "# Test the trained model with overall test dataset\n",
        "correct = 0\n",
        "total = 0\n",
        "with torch.no_grad():\n",
        "  net.eval() #we do not use dropout\n",
        "  for data in testloader:\n",
        "    # Load the data\n",
        "      inputs_test, labels_test = data\n",
        "      inputs_test = inputs_test.to(device)\n",
        "      labels_test = labels_test.to(device)\n",
        "\n",
        "    # Estimate the output using the trained network\n",
        "      outputs_test = net(inputs_test)\n",
        "      _, predicted = torch.max(outputs_test.data, 1)\n",
        "\n",
        "    # Calculate the accuracy\n",
        "      total += labels_test.size(0)\n",
        "      correct += (predicted == labels_test).sum()\n",
        "\n",
        "# Final accuracy\n",
        "print('Accuracy of the network on the 10,000 test images: %d %%' % (100 * correct / total))\n",
        "\n",
        "\n",
        "## [SimpleNet / Training 5 epochs] Accuracy of the network on the 10,000 test images: 59 %\n",
        "## [VGG11 / Training 5 epochs] Accuracy of the network on the 10,000 test images: 77 %"
      ]
    }
  ],
  "metadata": {
    "accelerator": "GPU",
    "colab": {
      "provenance": [],
      "include_colab_link": true
    },
    "kernelspec": {
      "display_name": "Python 3",
      "name": "python3"
    },
    "language_info": {
      "name": "python"
    }
  },
  "nbformat": 4,
  "nbformat_minor": 0
}